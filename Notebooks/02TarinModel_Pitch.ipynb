{
  "nbformat": 4,
  "nbformat_minor": 0,
  "metadata": {
    "colab": {
      "name": "02TarinModel_Pitch.ipynb",
      "provenance": [],
      "collapsed_sections": [
        "FfuVNOn1xqmR",
        "06pwAmzi4Cq5",
        "1L9U5kmU4a7J",
        "FpQ9-ew-g-TS",
        "FQ3m5JeNjPKC",
        "1wHBbXhzF_EG",
        "9z2Th4fQHFex"
      ]
    },
    "kernelspec": {
      "name": "python3",
      "display_name": "Python 3"
    },
    "language_info": {
      "name": "python"
    }
  },
  "cells": [
    {
      "cell_type": "code",
      "execution_count": null,
      "metadata": {
        "id": "KuSlWrtd3uUb"
      },
      "outputs": [],
      "source": [
        "# pip install mediapipe"
      ]
    },
    {
      "cell_type": "code",
      "source": [
        "import numpy as np\n",
        "import pandas as pd\n",
        "import mediapipe\n",
        "import math\n",
        "from sklearn.decomposition import PCA\n",
        "from sklearn.preprocessing import  RobustScaler\n",
        "from sklearn.preprocessing import StandardScaler, MinMaxScaler\n",
        "from sklearn.ensemble import RandomForestRegressor\n",
        "from sklearn.multioutput import MultiOutputRegressor\n",
        "from sklearn.pipeline import make_pipeline, FeatureUnion\n",
        "from sklearn.model_selection import GridSearchCV\n",
        "from sklearn import metrics\n",
        "from sklearn.decomposition import PCA\n",
        "from sklearn.metrics import mean_squared_error, r2_score"
      ],
      "metadata": {
        "id": "l703UZ2n3ycE"
      },
      "execution_count": null,
      "outputs": []
    },
    {
      "cell_type": "code",
      "source": [
        "# from google.colab import drive\n",
        "# drive.mount('/content/AFLW2000')"
      ],
      "metadata": {
        "id": "x85YWl5CP08Z",
        "colab": {
          "base_uri": "https://localhost:8080/"
        },
        "outputId": "1ac6be3d-0a6f-4c84-a16e-cada5ddccd20"
      },
      "execution_count": null,
      "outputs": [
        {
          "output_type": "stream",
          "name": "stdout",
          "text": [
            "Mounted at /content/AFLW2000\n"
          ]
        }
      ]
    },
    {
      "cell_type": "code",
      "source": [
        "df = pd.read_csv(\"/content/AFLW2000/MyDrive/Data_mediapipe_Last.csv\")\n",
        "df"
      ],
      "metadata": {
        "id": "7mzlPreHP2pu",
        "colab": {
          "base_uri": "https://localhost:8080/",
          "height": 488
        },
        "outputId": "fa3a5dc0-abed-4114-82ce-be7b18ccd6ab"
      },
      "execution_count": null,
      "outputs": [
        {
          "output_type": "execute_result",
          "data": {
            "text/plain": [
              "             0         1         2         3         4         5         6  \\\n",
              "0     0.938597  1.007386  1.098770  0.182021  0.763815  0.510631  0.609138   \n",
              "1     0.620653  1.375399  1.325659  0.525301  0.589380  0.879985  0.836262   \n",
              "2    -0.200145  0.945523 -0.232793  0.611262 -0.213700  0.632172 -0.386228   \n",
              "3     0.245179  0.390212  0.669888 -0.102398  0.258672  0.086786  0.374627   \n",
              "4    -0.231091  0.608912 -0.168474  0.137574 -0.230430  0.238288 -0.368546   \n",
              "...        ...       ...       ...       ...       ...       ...       ...   \n",
              "1818  0.096465  1.103705 -0.078571  0.729682  0.013125  0.793496 -0.274523   \n",
              "1819 -0.026975  0.472753 -0.188752  0.196186 -0.057657  0.292424 -0.182060   \n",
              "1820  2.354778  0.784182  2.408616  0.335732  2.304485  0.496784  2.187844   \n",
              "1821  0.542091  0.594646  0.214526  0.240460  0.489729  0.345595  0.221053   \n",
              "1822  0.469310  0.914627  0.138112  0.560252  0.297668  0.643292 -0.135324   \n",
              "\n",
              "             7         8         9  ...       930       931       932  \\\n",
              "0    -0.391791  1.076836 -0.031944  ...  0.308671 -0.800266  0.490267   \n",
              "1    -0.283631  1.391070  0.246671  ...  0.390860 -0.863887  0.437160   \n",
              "2    -0.038489 -0.240714  0.466111  ...  0.098146 -0.705439  1.153548   \n",
              "3    -0.560250  0.706987 -0.251751  ...  0.174222 -0.944195  0.335404   \n",
              "4    -0.476936 -0.161499 -0.028239  ... -0.037472 -0.993423  0.832600   \n",
              "...        ...       ...       ...  ...       ...       ...       ...   \n",
              "1818  0.219890 -0.121227  0.594823  ...  0.095882 -0.301489  0.951424   \n",
              "1819 -0.095267 -0.198417  0.100473  ...  0.176497 -0.290683  0.756945   \n",
              "1820 -0.035539  2.404536  0.208834  ...  2.261684 -0.292790  2.736815   \n",
              "1821 -0.097081  0.169589  0.126626  ...  0.661764 -0.457418  1.296870   \n",
              "1822  0.211328  0.054963  0.444510  ...  0.113586 -0.267376  0.777417   \n",
              "\n",
              "           933       934       935       936       937       938         939  \n",
              "0    -1.006096  0.482867 -1.089393 -0.974573  0.510970 -0.369454  image03196  \n",
              "1    -1.010319  0.427355 -1.148040 -1.228429 -0.368714  0.177511  image03161  \n",
              "2    -1.127718  1.229906 -1.216391 -0.040907 -0.474087  0.019801  image03238  \n",
              "3    -1.086590  0.352655 -1.176436 -0.985426 -0.379067  0.086955  image03249  \n",
              "4    -1.310196  0.895753 -1.368230  0.039903 -0.192543 -0.027199  image03217  \n",
              "...        ...       ...       ...       ...       ...       ...         ...  \n",
              "1818 -0.702999  1.009162 -0.780140  0.206935 -0.219317 -0.202272  image00856  \n",
              "1819 -0.397687  0.822751 -0.433359  0.580349 -0.046365 -0.023616  image00847  \n",
              "1820 -0.448154  2.779947 -0.496736 -0.617419  0.137163 -0.091421  image00837  \n",
              "1821 -0.812498  1.355925 -0.912849  0.983607  0.236384 -0.383734  image00861  \n",
              "1822 -0.829151  0.824716 -0.909367  0.314266 -0.075998 -0.553940  image00846  \n",
              "\n",
              "[1823 rows x 940 columns]"
            ],
            "text/html": [
              "\n",
              "  <div id=\"df-84be4bac-ad25-403e-a409-9f9c1cd40f7a\">\n",
              "    <div class=\"colab-df-container\">\n",
              "      <div>\n",
              "<style scoped>\n",
              "    .dataframe tbody tr th:only-of-type {\n",
              "        vertical-align: middle;\n",
              "    }\n",
              "\n",
              "    .dataframe tbody tr th {\n",
              "        vertical-align: top;\n",
              "    }\n",
              "\n",
              "    .dataframe thead th {\n",
              "        text-align: right;\n",
              "    }\n",
              "</style>\n",
              "<table border=\"1\" class=\"dataframe\">\n",
              "  <thead>\n",
              "    <tr style=\"text-align: right;\">\n",
              "      <th></th>\n",
              "      <th>0</th>\n",
              "      <th>1</th>\n",
              "      <th>2</th>\n",
              "      <th>3</th>\n",
              "      <th>4</th>\n",
              "      <th>5</th>\n",
              "      <th>6</th>\n",
              "      <th>7</th>\n",
              "      <th>8</th>\n",
              "      <th>9</th>\n",
              "      <th>...</th>\n",
              "      <th>930</th>\n",
              "      <th>931</th>\n",
              "      <th>932</th>\n",
              "      <th>933</th>\n",
              "      <th>934</th>\n",
              "      <th>935</th>\n",
              "      <th>936</th>\n",
              "      <th>937</th>\n",
              "      <th>938</th>\n",
              "      <th>939</th>\n",
              "    </tr>\n",
              "  </thead>\n",
              "  <tbody>\n",
              "    <tr>\n",
              "      <th>0</th>\n",
              "      <td>0.938597</td>\n",
              "      <td>1.007386</td>\n",
              "      <td>1.098770</td>\n",
              "      <td>0.182021</td>\n",
              "      <td>0.763815</td>\n",
              "      <td>0.510631</td>\n",
              "      <td>0.609138</td>\n",
              "      <td>-0.391791</td>\n",
              "      <td>1.076836</td>\n",
              "      <td>-0.031944</td>\n",
              "      <td>...</td>\n",
              "      <td>0.308671</td>\n",
              "      <td>-0.800266</td>\n",
              "      <td>0.490267</td>\n",
              "      <td>-1.006096</td>\n",
              "      <td>0.482867</td>\n",
              "      <td>-1.089393</td>\n",
              "      <td>-0.974573</td>\n",
              "      <td>0.510970</td>\n",
              "      <td>-0.369454</td>\n",
              "      <td>image03196</td>\n",
              "    </tr>\n",
              "    <tr>\n",
              "      <th>1</th>\n",
              "      <td>0.620653</td>\n",
              "      <td>1.375399</td>\n",
              "      <td>1.325659</td>\n",
              "      <td>0.525301</td>\n",
              "      <td>0.589380</td>\n",
              "      <td>0.879985</td>\n",
              "      <td>0.836262</td>\n",
              "      <td>-0.283631</td>\n",
              "      <td>1.391070</td>\n",
              "      <td>0.246671</td>\n",
              "      <td>...</td>\n",
              "      <td>0.390860</td>\n",
              "      <td>-0.863887</td>\n",
              "      <td>0.437160</td>\n",
              "      <td>-1.010319</td>\n",
              "      <td>0.427355</td>\n",
              "      <td>-1.148040</td>\n",
              "      <td>-1.228429</td>\n",
              "      <td>-0.368714</td>\n",
              "      <td>0.177511</td>\n",
              "      <td>image03161</td>\n",
              "    </tr>\n",
              "    <tr>\n",
              "      <th>2</th>\n",
              "      <td>-0.200145</td>\n",
              "      <td>0.945523</td>\n",
              "      <td>-0.232793</td>\n",
              "      <td>0.611262</td>\n",
              "      <td>-0.213700</td>\n",
              "      <td>0.632172</td>\n",
              "      <td>-0.386228</td>\n",
              "      <td>-0.038489</td>\n",
              "      <td>-0.240714</td>\n",
              "      <td>0.466111</td>\n",
              "      <td>...</td>\n",
              "      <td>0.098146</td>\n",
              "      <td>-0.705439</td>\n",
              "      <td>1.153548</td>\n",
              "      <td>-1.127718</td>\n",
              "      <td>1.229906</td>\n",
              "      <td>-1.216391</td>\n",
              "      <td>-0.040907</td>\n",
              "      <td>-0.474087</td>\n",
              "      <td>0.019801</td>\n",
              "      <td>image03238</td>\n",
              "    </tr>\n",
              "    <tr>\n",
              "      <th>3</th>\n",
              "      <td>0.245179</td>\n",
              "      <td>0.390212</td>\n",
              "      <td>0.669888</td>\n",
              "      <td>-0.102398</td>\n",
              "      <td>0.258672</td>\n",
              "      <td>0.086786</td>\n",
              "      <td>0.374627</td>\n",
              "      <td>-0.560250</td>\n",
              "      <td>0.706987</td>\n",
              "      <td>-0.251751</td>\n",
              "      <td>...</td>\n",
              "      <td>0.174222</td>\n",
              "      <td>-0.944195</td>\n",
              "      <td>0.335404</td>\n",
              "      <td>-1.086590</td>\n",
              "      <td>0.352655</td>\n",
              "      <td>-1.176436</td>\n",
              "      <td>-0.985426</td>\n",
              "      <td>-0.379067</td>\n",
              "      <td>0.086955</td>\n",
              "      <td>image03249</td>\n",
              "    </tr>\n",
              "    <tr>\n",
              "      <th>4</th>\n",
              "      <td>-0.231091</td>\n",
              "      <td>0.608912</td>\n",
              "      <td>-0.168474</td>\n",
              "      <td>0.137574</td>\n",
              "      <td>-0.230430</td>\n",
              "      <td>0.238288</td>\n",
              "      <td>-0.368546</td>\n",
              "      <td>-0.476936</td>\n",
              "      <td>-0.161499</td>\n",
              "      <td>-0.028239</td>\n",
              "      <td>...</td>\n",
              "      <td>-0.037472</td>\n",
              "      <td>-0.993423</td>\n",
              "      <td>0.832600</td>\n",
              "      <td>-1.310196</td>\n",
              "      <td>0.895753</td>\n",
              "      <td>-1.368230</td>\n",
              "      <td>0.039903</td>\n",
              "      <td>-0.192543</td>\n",
              "      <td>-0.027199</td>\n",
              "      <td>image03217</td>\n",
              "    </tr>\n",
              "    <tr>\n",
              "      <th>...</th>\n",
              "      <td>...</td>\n",
              "      <td>...</td>\n",
              "      <td>...</td>\n",
              "      <td>...</td>\n",
              "      <td>...</td>\n",
              "      <td>...</td>\n",
              "      <td>...</td>\n",
              "      <td>...</td>\n",
              "      <td>...</td>\n",
              "      <td>...</td>\n",
              "      <td>...</td>\n",
              "      <td>...</td>\n",
              "      <td>...</td>\n",
              "      <td>...</td>\n",
              "      <td>...</td>\n",
              "      <td>...</td>\n",
              "      <td>...</td>\n",
              "      <td>...</td>\n",
              "      <td>...</td>\n",
              "      <td>...</td>\n",
              "      <td>...</td>\n",
              "    </tr>\n",
              "    <tr>\n",
              "      <th>1818</th>\n",
              "      <td>0.096465</td>\n",
              "      <td>1.103705</td>\n",
              "      <td>-0.078571</td>\n",
              "      <td>0.729682</td>\n",
              "      <td>0.013125</td>\n",
              "      <td>0.793496</td>\n",
              "      <td>-0.274523</td>\n",
              "      <td>0.219890</td>\n",
              "      <td>-0.121227</td>\n",
              "      <td>0.594823</td>\n",
              "      <td>...</td>\n",
              "      <td>0.095882</td>\n",
              "      <td>-0.301489</td>\n",
              "      <td>0.951424</td>\n",
              "      <td>-0.702999</td>\n",
              "      <td>1.009162</td>\n",
              "      <td>-0.780140</td>\n",
              "      <td>0.206935</td>\n",
              "      <td>-0.219317</td>\n",
              "      <td>-0.202272</td>\n",
              "      <td>image00856</td>\n",
              "    </tr>\n",
              "    <tr>\n",
              "      <th>1819</th>\n",
              "      <td>-0.026975</td>\n",
              "      <td>0.472753</td>\n",
              "      <td>-0.188752</td>\n",
              "      <td>0.196186</td>\n",
              "      <td>-0.057657</td>\n",
              "      <td>0.292424</td>\n",
              "      <td>-0.182060</td>\n",
              "      <td>-0.095267</td>\n",
              "      <td>-0.198417</td>\n",
              "      <td>0.100473</td>\n",
              "      <td>...</td>\n",
              "      <td>0.176497</td>\n",
              "      <td>-0.290683</td>\n",
              "      <td>0.756945</td>\n",
              "      <td>-0.397687</td>\n",
              "      <td>0.822751</td>\n",
              "      <td>-0.433359</td>\n",
              "      <td>0.580349</td>\n",
              "      <td>-0.046365</td>\n",
              "      <td>-0.023616</td>\n",
              "      <td>image00847</td>\n",
              "    </tr>\n",
              "    <tr>\n",
              "      <th>1820</th>\n",
              "      <td>2.354778</td>\n",
              "      <td>0.784182</td>\n",
              "      <td>2.408616</td>\n",
              "      <td>0.335732</td>\n",
              "      <td>2.304485</td>\n",
              "      <td>0.496784</td>\n",
              "      <td>2.187844</td>\n",
              "      <td>-0.035539</td>\n",
              "      <td>2.404536</td>\n",
              "      <td>0.208834</td>\n",
              "      <td>...</td>\n",
              "      <td>2.261684</td>\n",
              "      <td>-0.292790</td>\n",
              "      <td>2.736815</td>\n",
              "      <td>-0.448154</td>\n",
              "      <td>2.779947</td>\n",
              "      <td>-0.496736</td>\n",
              "      <td>-0.617419</td>\n",
              "      <td>0.137163</td>\n",
              "      <td>-0.091421</td>\n",
              "      <td>image00837</td>\n",
              "    </tr>\n",
              "    <tr>\n",
              "      <th>1821</th>\n",
              "      <td>0.542091</td>\n",
              "      <td>0.594646</td>\n",
              "      <td>0.214526</td>\n",
              "      <td>0.240460</td>\n",
              "      <td>0.489729</td>\n",
              "      <td>0.345595</td>\n",
              "      <td>0.221053</td>\n",
              "      <td>-0.097081</td>\n",
              "      <td>0.169589</td>\n",
              "      <td>0.126626</td>\n",
              "      <td>...</td>\n",
              "      <td>0.661764</td>\n",
              "      <td>-0.457418</td>\n",
              "      <td>1.296870</td>\n",
              "      <td>-0.812498</td>\n",
              "      <td>1.355925</td>\n",
              "      <td>-0.912849</td>\n",
              "      <td>0.983607</td>\n",
              "      <td>0.236384</td>\n",
              "      <td>-0.383734</td>\n",
              "      <td>image00861</td>\n",
              "    </tr>\n",
              "    <tr>\n",
              "      <th>1822</th>\n",
              "      <td>0.469310</td>\n",
              "      <td>0.914627</td>\n",
              "      <td>0.138112</td>\n",
              "      <td>0.560252</td>\n",
              "      <td>0.297668</td>\n",
              "      <td>0.643292</td>\n",
              "      <td>-0.135324</td>\n",
              "      <td>0.211328</td>\n",
              "      <td>0.054963</td>\n",
              "      <td>0.444510</td>\n",
              "      <td>...</td>\n",
              "      <td>0.113586</td>\n",
              "      <td>-0.267376</td>\n",
              "      <td>0.777417</td>\n",
              "      <td>-0.829151</td>\n",
              "      <td>0.824716</td>\n",
              "      <td>-0.909367</td>\n",
              "      <td>0.314266</td>\n",
              "      <td>-0.075998</td>\n",
              "      <td>-0.553940</td>\n",
              "      <td>image00846</td>\n",
              "    </tr>\n",
              "  </tbody>\n",
              "</table>\n",
              "<p>1823 rows × 940 columns</p>\n",
              "</div>\n",
              "      <button class=\"colab-df-convert\" onclick=\"convertToInteractive('df-84be4bac-ad25-403e-a409-9f9c1cd40f7a')\"\n",
              "              title=\"Convert this dataframe to an interactive table.\"\n",
              "              style=\"display:none;\">\n",
              "        \n",
              "  <svg xmlns=\"http://www.w3.org/2000/svg\" height=\"24px\"viewBox=\"0 0 24 24\"\n",
              "       width=\"24px\">\n",
              "    <path d=\"M0 0h24v24H0V0z\" fill=\"none\"/>\n",
              "    <path d=\"M18.56 5.44l.94 2.06.94-2.06 2.06-.94-2.06-.94-.94-2.06-.94 2.06-2.06.94zm-11 1L8.5 8.5l.94-2.06 2.06-.94-2.06-.94L8.5 2.5l-.94 2.06-2.06.94zm10 10l.94 2.06.94-2.06 2.06-.94-2.06-.94-.94-2.06-.94 2.06-2.06.94z\"/><path d=\"M17.41 7.96l-1.37-1.37c-.4-.4-.92-.59-1.43-.59-.52 0-1.04.2-1.43.59L10.3 9.45l-7.72 7.72c-.78.78-.78 2.05 0 2.83L4 21.41c.39.39.9.59 1.41.59.51 0 1.02-.2 1.41-.59l7.78-7.78 2.81-2.81c.8-.78.8-2.07 0-2.86zM5.41 20L4 18.59l7.72-7.72 1.47 1.35L5.41 20z\"/>\n",
              "  </svg>\n",
              "      </button>\n",
              "      \n",
              "  <style>\n",
              "    .colab-df-container {\n",
              "      display:flex;\n",
              "      flex-wrap:wrap;\n",
              "      gap: 12px;\n",
              "    }\n",
              "\n",
              "    .colab-df-convert {\n",
              "      background-color: #E8F0FE;\n",
              "      border: none;\n",
              "      border-radius: 50%;\n",
              "      cursor: pointer;\n",
              "      display: none;\n",
              "      fill: #1967D2;\n",
              "      height: 32px;\n",
              "      padding: 0 0 0 0;\n",
              "      width: 32px;\n",
              "    }\n",
              "\n",
              "    .colab-df-convert:hover {\n",
              "      background-color: #E2EBFA;\n",
              "      box-shadow: 0px 1px 2px rgba(60, 64, 67, 0.3), 0px 1px 3px 1px rgba(60, 64, 67, 0.15);\n",
              "      fill: #174EA6;\n",
              "    }\n",
              "\n",
              "    [theme=dark] .colab-df-convert {\n",
              "      background-color: #3B4455;\n",
              "      fill: #D2E3FC;\n",
              "    }\n",
              "\n",
              "    [theme=dark] .colab-df-convert:hover {\n",
              "      background-color: #434B5C;\n",
              "      box-shadow: 0px 1px 3px 1px rgba(0, 0, 0, 0.15);\n",
              "      filter: drop-shadow(0px 1px 2px rgba(0, 0, 0, 0.3));\n",
              "      fill: #FFFFFF;\n",
              "    }\n",
              "  </style>\n",
              "\n",
              "      <script>\n",
              "        const buttonEl =\n",
              "          document.querySelector('#df-84be4bac-ad25-403e-a409-9f9c1cd40f7a button.colab-df-convert');\n",
              "        buttonEl.style.display =\n",
              "          google.colab.kernel.accessAllowed ? 'block' : 'none';\n",
              "\n",
              "        async function convertToInteractive(key) {\n",
              "          const element = document.querySelector('#df-84be4bac-ad25-403e-a409-9f9c1cd40f7a');\n",
              "          const dataTable =\n",
              "            await google.colab.kernel.invokeFunction('convertToInteractive',\n",
              "                                                     [key], {});\n",
              "          if (!dataTable) return;\n",
              "\n",
              "          const docLinkHtml = 'Like what you see? Visit the ' +\n",
              "            '<a target=\"_blank\" href=https://colab.research.google.com/notebooks/data_table.ipynb>data table notebook</a>'\n",
              "            + ' to learn more about interactive tables.';\n",
              "          element.innerHTML = '';\n",
              "          dataTable['output_type'] = 'display_data';\n",
              "          await google.colab.output.renderOutput(dataTable, element);\n",
              "          const docLink = document.createElement('div');\n",
              "          docLink.innerHTML = docLinkHtml;\n",
              "          element.appendChild(docLink);\n",
              "        }\n",
              "      </script>\n",
              "    </div>\n",
              "  </div>\n",
              "  "
            ]
          },
          "metadata": {},
          "execution_count": 5
        }
      ]
    },
    {
      "cell_type": "code",
      "source": [
        "features = df.iloc[:,:936]\n",
        "labels = df.iloc[:,936:939]"
      ],
      "metadata": {
        "id": "y-il89Sl370u"
      },
      "execution_count": null,
      "outputs": []
    },
    {
      "cell_type": "code",
      "source": [
        "from sklearn.model_selection import train_test_split\n",
        "X_train, X_test, y_train, y_test = train_test_split(features, labels, shuffle=True, test_size=0.2,random_state=0)"
      ],
      "metadata": {
        "id": "AHeIUuOl373E"
      },
      "execution_count": null,
      "outputs": []
    },
    {
      "cell_type": "code",
      "source": [
        "X_tst, X_val, y_tst, y_val = train_test_split(X_test, y_test, shuffle=True, test_size=0.5,random_state=0)"
      ],
      "metadata": {
        "id": "HQJEU8vD375j"
      },
      "execution_count": null,
      "outputs": []
    },
    {
      "cell_type": "markdown",
      "source": [
        "# **DecisionTreeRegressor** (Pitch Saved Model)"
      ],
      "metadata": {
        "id": "FfuVNOn1xqmR"
      }
    },
    {
      "cell_type": "code",
      "source": [
        "from sklearn.tree import DecisionTreeRegressor\n",
        "rf_clf_DTR = make_pipeline(StandardScaler(),\n",
        "                       PCA(n_components=0.99),\n",
        "                        DecisionTreeRegressor(max_depth=6,random_state=42))"
      ],
      "metadata": {
        "id": "IroA4sgpx3RU"
      },
      "execution_count": null,
      "outputs": []
    },
    {
      "cell_type": "code",
      "source": [
        "rf_clf_DTR.fit(X_train, y_train.iloc[:, -2])"
      ],
      "metadata": {
        "colab": {
          "base_uri": "https://localhost:8080/"
        },
        "id": "lOyuqMt-x3Yu",
        "outputId": "e97ffd9a-c4e9-4837-9d77-59826f8c2217"
      },
      "execution_count": null,
      "outputs": [
        {
          "output_type": "execute_result",
          "data": {
            "text/plain": [
              "Pipeline(steps=[('standardscaler', StandardScaler()),\n",
              "                ('pca', PCA(n_components=0.99)),\n",
              "                ('decisiontreeregressor',\n",
              "                 DecisionTreeRegressor(max_depth=6, random_state=42))])"
            ]
          },
          "metadata": {},
          "execution_count": 10
        }
      ]
    },
    {
      "cell_type": "code",
      "source": [
        "print(\"Score \\n\")\n",
        "print(\"Train==>  \" ,rf_clf_DTR.score(X_train, y_train.iloc[:, -2]))\n",
        "print(\"Val==>  \" ,rf_clf_DTR.score(X_val, y_val.iloc[:, -2]))\n",
        "print(\"test==>  \" ,rf_clf_DTR.score(X_tst, y_tst.iloc[:, -2]))"
      ],
      "metadata": {
        "colab": {
          "base_uri": "https://localhost:8080/"
        },
        "id": "a0FHqpWVx3dK",
        "outputId": "194f9252-6aa5-43dd-b1fc-26f8a75bdf3a"
      },
      "execution_count": null,
      "outputs": [
        {
          "output_type": "stream",
          "name": "stdout",
          "text": [
            "Score \n",
            "\n",
            "Train==>   0.9247802693313227\n",
            "Val==>   0.5540005607706355\n",
            "test==>   0.5521914192292675\n"
          ]
        }
      ]
    },
    {
      "cell_type": "code",
      "source": [
        "predictions_train = rf_clf_DTR.predict(X_train)\n",
        "predictions_val = rf_clf_DTR.predict(X_val)\n",
        "predictions_test = rf_clf_DTR.predict(X_tst)"
      ],
      "metadata": {
        "id": "neTCA0eYx3e_"
      },
      "execution_count": null,
      "outputs": []
    },
    {
      "cell_type": "code",
      "source": [
        "print(\"\\n R2_Score \\n\")\n",
        "r2_train = r2_score(y_train.iloc[:, -2], predictions_train)\n",
        "r2_val = r2_score(y_val.iloc[:, -2], predictions_val)\n",
        "r2_tst = r2_score(y_tst.iloc[:, -2], predictions_test)\n",
        "print(\"Train ==>  \" , r2_train)\n",
        "print(\"Val ==>  \" , r2_val)\n",
        "print(\"test ==>  \" , r2_tst)"
      ],
      "metadata": {
        "colab": {
          "base_uri": "https://localhost:8080/"
        },
        "id": "wQL5lCfTx3gy",
        "outputId": "f3c3ed01-4260-4e96-9875-6964e0300db8"
      },
      "execution_count": null,
      "outputs": [
        {
          "output_type": "stream",
          "name": "stdout",
          "text": [
            "\n",
            " R2_Score \n",
            "\n",
            "Train ==>   0.9247802693313227\n",
            "Val ==>   0.5540005607706355\n",
            "test ==>   0.5521914192292675\n"
          ]
        }
      ]
    },
    {
      "cell_type": "code",
      "source": [
        "import pickle \n",
        "with open('pitch_model.pkl', 'wb') as f:\n",
        "    pickle.dump(rf_clf_DTR, f)\n"
      ],
      "metadata": {
        "id": "dAa1Tl9sydQv"
      },
      "execution_count": null,
      "outputs": []
    },
    {
      "cell_type": "markdown",
      "source": [
        "---\n",
        "\n",
        "\n",
        "\n",
        "---\n",
        "\n",
        "\n",
        "# ***Trials***\n",
        "\n",
        "\n",
        "---\n",
        "\n",
        "\n",
        "\n",
        "---\n",
        "\n"
      ],
      "metadata": {
        "id": "G2i_bjZGvptP"
      }
    },
    {
      "cell_type": "markdown",
      "source": [
        "# RandomForestRegressor"
      ],
      "metadata": {
        "id": "06pwAmzi4Cq5"
      }
    },
    {
      "cell_type": "code",
      "source": [
        "from sklearn.svm import SVR\n",
        "from sklearn.ensemble import BaggingRegressor\n",
        "from sklearn.ensemble import ExtraTreesRegressor\n",
        "rf_clf = make_pipeline(RobustScaler(),\n",
        "                       PCA(n_components=0.99),\n",
        "                     RandomForestRegressor(max_depth=15,random_state=42))"
      ],
      "metadata": {
        "id": "9CsWJI3qvBXl"
      },
      "execution_count": null,
      "outputs": []
    },
    {
      "cell_type": "code",
      "source": [
        "rf_clf.fit(X_train, y_train.iloc[:, -2])"
      ],
      "metadata": {
        "colab": {
          "base_uri": "https://localhost:8080/"
        },
        "id": "0w-n1xbqvBaN",
        "outputId": "4866de73-4048-4bd1-e585-b691e1b0692f"
      },
      "execution_count": null,
      "outputs": [
        {
          "output_type": "execute_result",
          "data": {
            "text/plain": [
              "Pipeline(steps=[('robustscaler', RobustScaler()),\n",
              "                ('pca', PCA(n_components=0.99)),\n",
              "                ('randomforestregressor',\n",
              "                 RandomForestRegressor(max_depth=15, random_state=42))])"
            ]
          },
          "metadata": {},
          "execution_count": 15
        }
      ]
    },
    {
      "cell_type": "code",
      "source": [
        "print(\"Score \\n\")\n",
        "print(\"Train==>  \" ,rf_clf.score(X_train, y_train.iloc[:, -2]))\n",
        "print(\"Val==>  \" ,rf_clf.score(X_val, y_val.iloc[:, -2]))\n",
        "print(\"test==>  \" ,rf_clf.score(X_tst, y_tst.iloc[:, -2]))"
      ],
      "metadata": {
        "colab": {
          "base_uri": "https://localhost:8080/"
        },
        "id": "h_HCdRiEvBc3",
        "outputId": "d5634f5e-8680-4b2d-ab32-7cfa393cb518"
      },
      "execution_count": null,
      "outputs": [
        {
          "output_type": "stream",
          "name": "stdout",
          "text": [
            "Score \n",
            "\n",
            "Train==>   0.7319414112481388\n",
            "Val==>   0.7326765560728152\n",
            "test==>   0.5214568578841763\n"
          ]
        }
      ]
    },
    {
      "cell_type": "code",
      "source": [
        "predictions_train = rf_clf.predict(X_train)\n",
        "predictions_val = rf_clf.predict(X_val)\n",
        "predictions_test = rf_clf.predict(X_tst)"
      ],
      "metadata": {
        "id": "nVwd6JzvvBfl"
      },
      "execution_count": null,
      "outputs": []
    },
    {
      "cell_type": "code",
      "source": [
        "print(\"\\n R2_Score \\n\")\n",
        "r2_train = r2_score(y_train.iloc[:, -2], predictions_train)\n",
        "r2_val = r2_score(y_val.iloc[:, -2], predictions_val)\n",
        "r2_tst = r2_score(y_tst.iloc[:, -2], predictions_test)\n",
        "print(\"Train ==>  \" , r2_train)\n",
        "print(\"Val ==>  \" , r2_val)\n",
        "print(\"test ==>  \" , r2_tst)"
      ],
      "metadata": {
        "colab": {
          "base_uri": "https://localhost:8080/"
        },
        "id": "Fei1-thhvBiC",
        "outputId": "6d2e38c3-d67a-47a2-ec65-5e70eb12d1b6"
      },
      "execution_count": null,
      "outputs": [
        {
          "output_type": "stream",
          "name": "stdout",
          "text": [
            "\n",
            " R2_Score \n",
            "\n",
            "Train ==>   0.7319414112481388\n",
            "Val ==>   0.7326765560728152\n",
            "test ==>   0.5214568578841763\n"
          ]
        }
      ]
    },
    {
      "cell_type": "markdown",
      "source": [
        "# **SVR** "
      ],
      "metadata": {
        "id": "1L9U5kmU4a7J"
      }
    },
    {
      "cell_type": "code",
      "source": [
        "from sklearn.svm import SVR\n",
        "from sklearn.ensemble import BaggingRegressor\n",
        "from sklearn.ensemble import ExtraTreesRegressor\n",
        "rf_clf_svr = make_pipeline(RobustScaler(),\n",
        "                       PCA(n_components=0.99),\n",
        "                        SVR(kernel='rbf', C=45.0, epsilon=0.000089))"
      ],
      "metadata": {
        "id": "oVzvEOSTrdnj"
      },
      "execution_count": null,
      "outputs": []
    },
    {
      "cell_type": "code",
      "source": [
        "rf_clf_svr.fit(X_train, y_train.iloc[:, -2])"
      ],
      "metadata": {
        "colab": {
          "base_uri": "https://localhost:8080/"
        },
        "id": "B9THskyDrdp5",
        "outputId": "c40f7771-a8be-43ca-f8a6-ea8ff5133ac8"
      },
      "execution_count": null,
      "outputs": [
        {
          "output_type": "execute_result",
          "data": {
            "text/plain": [
              "Pipeline(steps=[('robustscaler', RobustScaler()),\n",
              "                ('pca', PCA(n_components=0.99)),\n",
              "                ('svr', SVR(C=45.0, epsilon=8.9e-05))])"
            ]
          },
          "metadata": {},
          "execution_count": 20
        }
      ]
    },
    {
      "cell_type": "code",
      "source": [
        "print(\"Score \\n\")\n",
        "print(\"Train==>  \" ,rf_clf_svr.score(X_train, y_train.iloc[:, -2]))\n",
        "print(\"Val==>  \" ,rf_clf_svr.score(X_val, y_val.iloc[:, -2]))\n",
        "print(\"test==>  \" ,rf_clf_svr.score(X_tst, y_tst.iloc[:, -2]))"
      ],
      "metadata": {
        "colab": {
          "base_uri": "https://localhost:8080/"
        },
        "id": "0oBadAq-rdsr",
        "outputId": "9e613e9c-70ad-441d-bc2c-eee88521b5a0"
      },
      "execution_count": null,
      "outputs": [
        {
          "output_type": "stream",
          "name": "stdout",
          "text": [
            "Score \n",
            "\n",
            "Train==>   0.949042272330716\n",
            "Val==>   0.15740278569691868\n",
            "test==>   0.5717793922972962\n"
          ]
        }
      ]
    },
    {
      "cell_type": "code",
      "source": [
        "predictions_train = rf_clf_svr.predict(X_train)\n",
        "predictions_val = rf_clf_svr.predict(X_val)\n",
        "predictions_test = rf_clf_svr.predict(X_tst)"
      ],
      "metadata": {
        "id": "wJlaFAf4rdvi"
      },
      "execution_count": null,
      "outputs": []
    },
    {
      "cell_type": "code",
      "source": [
        "print(\"\\n R2_Score \\n\")\n",
        "r2_train = r2_score(y_train.iloc[:, -2], predictions_train)\n",
        "r2_val = r2_score(y_val.iloc[:, -2], predictions_val)\n",
        "r2_tst = r2_score(y_tst.iloc[:, -2], predictions_test)\n",
        "print(\"Train ==>  \" , r2_train)\n",
        "print(\"Val ==>  \" , r2_val)\n",
        "print(\"test ==>  \" , r2_tst)"
      ],
      "metadata": {
        "colab": {
          "base_uri": "https://localhost:8080/"
        },
        "id": "uCbNfUV1rdyH",
        "outputId": "3159d1e5-d82d-441e-be91-d8703a0b5692"
      },
      "execution_count": null,
      "outputs": [
        {
          "output_type": "stream",
          "name": "stdout",
          "text": [
            "\n",
            " R2_Score \n",
            "\n",
            "Train ==>   0.949042272330716\n",
            "Val ==>   0.15740278569691868\n",
            "test ==>   0.5717793922972962\n"
          ]
        }
      ]
    },
    {
      "cell_type": "markdown",
      "source": [
        "# AdaBoostRegressor"
      ],
      "metadata": {
        "id": "FpQ9-ew-g-TS"
      }
    },
    {
      "cell_type": "code",
      "source": [
        "from sklearn.svm import SVR\n",
        "from sklearn.ensemble import BaggingRegressor\n",
        "from sklearn.ensemble import AdaBoostRegressor\n",
        "from sklearn.ensemble import ExtraTreesRegressor\n",
        "rf_clf = make_pipeline(StandardScaler(),\n",
        "                       PCA(n_components=0.99),\n",
        "                      AdaBoostRegressor(random_state=0, n_estimators=250, learning_rate=0.0000058))"
      ],
      "metadata": {
        "id": "nAFEppHug94v"
      },
      "execution_count": null,
      "outputs": []
    },
    {
      "cell_type": "code",
      "source": [
        "rf_clf.fit(X_train, y_train.iloc[:, -2])"
      ],
      "metadata": {
        "colab": {
          "base_uri": "https://localhost:8080/"
        },
        "id": "m2lUxTpBhDV4",
        "outputId": "b09fafbc-51ee-4704-a350-09ded0eb0889"
      },
      "execution_count": null,
      "outputs": [
        {
          "output_type": "execute_result",
          "data": {
            "text/plain": [
              "Pipeline(steps=[('standardscaler', StandardScaler()),\n",
              "                ('pca', PCA(n_components=0.99)),\n",
              "                ('adaboostregressor',\n",
              "                 AdaBoostRegressor(learning_rate=5.8e-06, n_estimators=250,\n",
              "                                   random_state=0))])"
            ]
          },
          "metadata": {},
          "execution_count": 25
        }
      ]
    },
    {
      "cell_type": "code",
      "source": [
        "print(\"Score \\n\")\n",
        "print(\"Train==>  \" ,rf_clf.score(X_train, y_train.iloc[:, -2]))\n",
        "print(\"Val==>  \" ,rf_clf.score(X_val, y_val.iloc[:, -2]))\n",
        "print(\"test==>  \" ,rf_clf.score(X_tst, y_tst.iloc[:, -2]))"
      ],
      "metadata": {
        "colab": {
          "base_uri": "https://localhost:8080/"
        },
        "id": "8qsLgYF1hDYm",
        "outputId": "5cb5a3c8-599b-4303-f542-2bca61b05702"
      },
      "execution_count": null,
      "outputs": [
        {
          "output_type": "stream",
          "name": "stdout",
          "text": [
            "Score \n",
            "\n",
            "Train==>   0.8636301766428937\n",
            "Val==>   0.5886556792835276\n",
            "test==>   0.5019150037816791\n"
          ]
        }
      ]
    },
    {
      "cell_type": "code",
      "source": [
        "predictions_train = rf_clf.predict(X_train)\n",
        "predictions_val = rf_clf.predict(X_val)\n",
        "predictions_test = rf_clf.predict(X_tst)"
      ],
      "metadata": {
        "id": "PHN6c84mhGGJ"
      },
      "execution_count": null,
      "outputs": []
    },
    {
      "cell_type": "code",
      "source": [
        "print(\"\\n R2_Score \\n\")\n",
        "r2_train = r2_score(y_train.iloc[:, -2], predictions_train)\n",
        "r2_val = r2_score(y_val.iloc[:, -2], predictions_val)\n",
        "r2_tst = r2_score(y_tst.iloc[:, -2], predictions_test)\n",
        "print(\"Train ==>  \" , r2_train)\n",
        "print(\"Val ==>  \" , r2_val)\n",
        "print(\"test ==>  \" , r2_tst)"
      ],
      "metadata": {
        "colab": {
          "base_uri": "https://localhost:8080/"
        },
        "id": "BZwh-ItfhGaB",
        "outputId": "a9e2bd2d-ed08-4b3b-a6e5-62c2ec07f427"
      },
      "execution_count": null,
      "outputs": [
        {
          "output_type": "stream",
          "name": "stdout",
          "text": [
            "\n",
            " R2_Score \n",
            "\n",
            "Train ==>   0.8636301766428937\n",
            "Val ==>   0.5886556792835276\n",
            "test ==>   0.5019150037816791\n"
          ]
        }
      ]
    },
    {
      "cell_type": "markdown",
      "source": [
        "# XGBoost "
      ],
      "metadata": {
        "id": "FQ3m5JeNjPKC"
      }
    },
    {
      "cell_type": "code",
      "source": [
        "# !pip install xgboost==1.0.1"
      ],
      "metadata": {
        "id": "38jn7_4WjOvB"
      },
      "execution_count": null,
      "outputs": []
    },
    {
      "cell_type": "code",
      "source": [
        "from sklearn.ensemble import AdaBoostRegressor\n",
        "from xgboost import XGBRegressor\n",
        "rf_clf = make_pipeline(StandardScaler(),\n",
        "                       PCA(n_components=0.99),\n",
        "                      XGBRegressor(n_estimators=1000, max_depth=7, eta=0.1, subsample=0.7, colsample_bytree=0.8))"
      ],
      "metadata": {
        "id": "1gW6pnWvjToZ"
      },
      "execution_count": null,
      "outputs": []
    },
    {
      "cell_type": "code",
      "source": [
        "rf_clf.fit(X_train, y_train.iloc[:, -2])"
      ],
      "metadata": {
        "colab": {
          "base_uri": "https://localhost:8080/"
        },
        "id": "-7zI4XQvjT41",
        "outputId": "8475a05e-5278-4faa-e031-439ed215f0ff"
      },
      "execution_count": null,
      "outputs": [
        {
          "output_type": "execute_result",
          "data": {
            "text/plain": [
              "Pipeline(steps=[('standardscaler', StandardScaler()),\n",
              "                ('pca', PCA(n_components=0.99)),\n",
              "                ('xgbregressor',\n",
              "                 XGBRegressor(base_score=0.5, booster=None, colsample_bylevel=1,\n",
              "                              colsample_bynode=1, colsample_bytree=0.8, eta=0.1,\n",
              "                              gamma=0, gpu_id=-1, importance_type='gain',\n",
              "                              interaction_constraints=None,\n",
              "                              learning_rate=0.100000001, max_delta_step=0,\n",
              "                              max_depth=7, min_child_weight=1, missing=nan,\n",
              "                              monotone_constraints=None, n_estimators=1000,\n",
              "                              n_jobs=0, num_parallel_tree=1, random_state=0,\n",
              "                              reg_alpha=0, reg_lambda=1, scale_pos_weight=1,\n",
              "                              subsample=0.7, tree_method=None,\n",
              "                              validate_parameters=False, verbosity=None))])"
            ]
          },
          "metadata": {},
          "execution_count": 31
        }
      ]
    },
    {
      "cell_type": "code",
      "source": [
        "print(\"Score \\n\")\n",
        "print(\"Train==>  \" ,rf_clf.score(X_train, y_train.iloc[:, -2]))\n",
        "print(\"Val==>  \" ,rf_clf.score(X_val, y_val.iloc[:, -2]))\n",
        "print(\"test==>  \" ,rf_clf.score(X_tst, y_tst.iloc[:, -2]))"
      ],
      "metadata": {
        "colab": {
          "base_uri": "https://localhost:8080/"
        },
        "id": "qrSD971tjT7K",
        "outputId": "f85b9a3e-06b2-413a-cd9c-5b17a28b5c6b"
      },
      "execution_count": null,
      "outputs": [
        {
          "output_type": "stream",
          "name": "stdout",
          "text": [
            "Score \n",
            "\n",
            "Train==>   0.9999992590271295\n",
            "Val==>   0.6730903609213705\n",
            "test==>   0.5283448367139247\n"
          ]
        }
      ]
    },
    {
      "cell_type": "code",
      "source": [
        "predictions_train = rf_clf.predict(X_train)\n",
        "predictions_val = rf_clf.predict(X_val)\n",
        "predictions_test = rf_clf.predict(X_tst)"
      ],
      "metadata": {
        "id": "Nsjf2iQLjT9u"
      },
      "execution_count": null,
      "outputs": []
    },
    {
      "cell_type": "code",
      "source": [
        "print(\"\\n R2_Score \\n\")\n",
        "r2_train = r2_score(y_train.iloc[:, -2], predictions_train)\n",
        "r2_val = r2_score(y_val.iloc[:, -2], predictions_val)\n",
        "r2_tst = r2_score(y_tst.iloc[:, -2], predictions_test)\n",
        "print(\"Train ==>  \" , r2_train)\n",
        "print(\"Val ==>  \" , r2_val)\n",
        "print(\"test ==>  \" , r2_tst)"
      ],
      "metadata": {
        "colab": {
          "base_uri": "https://localhost:8080/"
        },
        "id": "OCgu7ofljT_6",
        "outputId": "61d72947-ffff-41f8-f1ce-3d1cdea43dd4"
      },
      "execution_count": null,
      "outputs": [
        {
          "output_type": "stream",
          "name": "stdout",
          "text": [
            "\n",
            " R2_Score \n",
            "\n",
            "Train ==>   0.9999992590271295\n",
            "Val ==>   0.6730903609213705\n",
            "test ==>   0.5283448367139247\n"
          ]
        }
      ]
    },
    {
      "cell_type": "markdown",
      "source": [
        "# HuberRegressor"
      ],
      "metadata": {
        "id": "1wHBbXhzF_EG"
      }
    },
    {
      "cell_type": "code",
      "source": [
        "from sklearn.linear_model import HuberRegressor\n",
        "rf_clf_hr = make_pipeline(StandardScaler(),\n",
        "                       PCA(n_components=0.99),\n",
        "                        HuberRegressor())"
      ],
      "metadata": {
        "id": "s5KU7ceUGBd8"
      },
      "execution_count": null,
      "outputs": []
    },
    {
      "cell_type": "code",
      "source": [
        "rf_clf_hr.fit(X_train, y_train.iloc[:, -2])"
      ],
      "metadata": {
        "colab": {
          "base_uri": "https://localhost:8080/"
        },
        "id": "KgLpkLwVGBkh",
        "outputId": "9058ac8c-052c-4330-927e-4dcd085523de"
      },
      "execution_count": null,
      "outputs": [
        {
          "output_type": "execute_result",
          "data": {
            "text/plain": [
              "Pipeline(steps=[('standardscaler', StandardScaler()),\n",
              "                ('pca', PCA(n_components=0.99)),\n",
              "                ('huberregressor', HuberRegressor())])"
            ]
          },
          "metadata": {},
          "execution_count": 36
        }
      ]
    },
    {
      "cell_type": "code",
      "source": [
        "print(\"Score \\n\")\n",
        "print(\"Train==>  \" ,rf_clf_hr.score(X_train, y_train.iloc[:, -2]))\n",
        "print(\"Val==>  \" ,rf_clf_hr.score(X_val, y_val.iloc[:, -2]))\n",
        "print(\"test==>  \" ,rf_clf_hr.score(X_tst, y_tst.iloc[:, -2]))"
      ],
      "metadata": {
        "colab": {
          "base_uri": "https://localhost:8080/"
        },
        "id": "VlqPBJpAGBo3",
        "outputId": "e8b8e815-7cfb-440a-f50b-393ab9f4e573"
      },
      "execution_count": null,
      "outputs": [
        {
          "output_type": "stream",
          "name": "stdout",
          "text": [
            "Score \n",
            "\n",
            "Train==>   0.10980325903711141\n",
            "Val==>   0.6237572027569942\n",
            "test==>   0.557155055022649\n"
          ]
        }
      ]
    },
    {
      "cell_type": "code",
      "source": [
        "predictions_train = rf_clf_hr.predict(X_train)\n",
        "predictions_val = rf_clf_hr.predict(X_val)\n",
        "predictions_test = rf_clf_hr.predict(X_tst)"
      ],
      "metadata": {
        "id": "UVqCKJDfGBsK"
      },
      "execution_count": null,
      "outputs": []
    },
    {
      "cell_type": "code",
      "source": [
        "print(\"\\n R2_Score \\n\")\n",
        "r2_train = r2_score(y_train.iloc[:, -2], predictions_train)\n",
        "r2_val = r2_score(y_val.iloc[:, -2], predictions_val)\n",
        "r2_tst = r2_score(y_tst.iloc[:, -2], predictions_test)\n",
        "print(\"Train ==>  \" , r2_train)\n",
        "print(\"Val ==>  \" , r2_val)\n",
        "print(\"test ==>  \" , r2_tst)"
      ],
      "metadata": {
        "colab": {
          "base_uri": "https://localhost:8080/"
        },
        "id": "ZofzPd1_GBvq",
        "outputId": "179fe0ea-3cd2-4603-b50f-bc31063672bf"
      },
      "execution_count": null,
      "outputs": [
        {
          "output_type": "stream",
          "name": "stdout",
          "text": [
            "\n",
            " R2_Score \n",
            "\n",
            "Train ==>   0.10980325903711141\n",
            "Val ==>   0.6237572027569942\n",
            "test ==>   0.557155055022649\n"
          ]
        }
      ]
    },
    {
      "cell_type": "markdown",
      "source": [
        "# SGDRegressor"
      ],
      "metadata": {
        "id": "9z2Th4fQHFex"
      }
    },
    {
      "cell_type": "code",
      "source": [
        "from sklearn.linear_model import SGDRegressor\n",
        "rf_sgd= make_pipeline(MinMaxScaler(),\n",
        "                       PCA(n_components=0.99),\n",
        "                      SGDRegressor(max_iter=1000, tol=0.000000098))"
      ],
      "metadata": {
        "id": "VRQ8f9q6HE3y"
      },
      "execution_count": null,
      "outputs": []
    },
    {
      "cell_type": "code",
      "source": [
        "rf_sgd.fit(X_train, y_train.iloc[:, -2])"
      ],
      "metadata": {
        "colab": {
          "base_uri": "https://localhost:8080/"
        },
        "id": "mpjSty7vHI9Z",
        "outputId": "80f37aeb-8f30-4cd9-8fe8-71b7fe86ef59"
      },
      "execution_count": null,
      "outputs": [
        {
          "output_type": "execute_result",
          "data": {
            "text/plain": [
              "Pipeline(steps=[('minmaxscaler', MinMaxScaler()),\n",
              "                ('pca', PCA(n_components=0.99)),\n",
              "                ('sgdregressor', SGDRegressor(tol=9.8e-08))])"
            ]
          },
          "metadata": {},
          "execution_count": 41
        }
      ]
    },
    {
      "cell_type": "code",
      "source": [
        "print(\"Score \\n\")\n",
        "print(\"Train==>  \" ,rf_sgd.score(X_train, y_train.iloc[:, -2]))\n",
        "print(\"Val==>  \" ,rf_sgd.score(X_val, y_val.iloc[:, -2]))\n",
        "print(\"test==>  \" ,rf_sgd.score(X_tst, y_tst.iloc[:, -2]))"
      ],
      "metadata": {
        "colab": {
          "base_uri": "https://localhost:8080/"
        },
        "id": "PkKuHYyOHLn5",
        "outputId": "27bcf70f-d12d-401b-cd6f-fe3fbe8f438f"
      },
      "execution_count": null,
      "outputs": [
        {
          "output_type": "stream",
          "name": "stdout",
          "text": [
            "Score \n",
            "\n",
            "Train==>   0.11001673847739957\n",
            "Val==>   0.5667773899595012\n",
            "test==>   0.5494797393998252\n"
          ]
        }
      ]
    },
    {
      "cell_type": "code",
      "source": [
        "predictions_train = rf_sgd.predict(X_train)\n",
        "predictions_val = rf_sgd.predict(X_val)\n",
        "predictions_test = rf_sgd.predict(X_tst)"
      ],
      "metadata": {
        "id": "mWdLXsUfHLqQ"
      },
      "execution_count": null,
      "outputs": []
    },
    {
      "cell_type": "code",
      "source": [
        "print(\"\\n R2_Score \\n\")\n",
        "r2_train = r2_score(y_train.iloc[:, -2], predictions_train)\n",
        "r2_val = r2_score(y_val.iloc[:, -2], predictions_val)\n",
        "r2_tst = r2_score(y_tst.iloc[:, -2], predictions_test)\n",
        "print(\"Train ==>  \" , r2_train)\n",
        "print(\"Val ==>  \" , r2_val)\n",
        "print(\"test ==>  \" , r2_tst)"
      ],
      "metadata": {
        "colab": {
          "base_uri": "https://localhost:8080/"
        },
        "id": "LDMBPBIyHLtJ",
        "outputId": "64454cf7-330e-41a4-a217-149f3e70282d"
      },
      "execution_count": null,
      "outputs": [
        {
          "output_type": "stream",
          "name": "stdout",
          "text": [
            "\n",
            " R2_Score \n",
            "\n",
            "Train ==>   0.11001673847739957\n",
            "Val ==>   0.5667773899595012\n",
            "test ==>   0.5494797393998252\n"
          ]
        }
      ]
    }
  ]
}