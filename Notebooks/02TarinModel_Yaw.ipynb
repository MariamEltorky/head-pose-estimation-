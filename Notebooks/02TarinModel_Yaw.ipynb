{
  "nbformat": 4,
  "nbformat_minor": 0,
  "metadata": {
    "colab": {
      "name": "02TarinModel_Yaw.ipynb",
      "provenance": [],
      "collapsed_sections": [
        "ztxuO5JUAJWN",
        "VQzxX0i6RlLS"
      ]
    },
    "kernelspec": {
      "name": "python3",
      "display_name": "Python 3"
    },
    "language_info": {
      "name": "python"
    }
  },
  "cells": [
    {
      "cell_type": "code",
      "source": [
        "# pip install mediapipe"
      ],
      "metadata": {
        "id": "f0MGArkp_xPL"
      },
      "execution_count": null,
      "outputs": []
    },
    {
      "cell_type": "code",
      "execution_count": null,
      "metadata": {
        "id": "zrOAJ-e7_qtc"
      },
      "outputs": [],
      "source": [
        "import numpy as np\n",
        "import pandas as pd\n",
        "import mediapipe\n",
        "import math\n",
        "from sklearn.decomposition import PCA\n",
        "from sklearn.preprocessing import  RobustScaler\n",
        "from sklearn.preprocessing import StandardScaler, MinMaxScaler\n",
        "from sklearn.ensemble import RandomForestRegressor\n",
        "from sklearn.multioutput import MultiOutputRegressor\n",
        "from sklearn.pipeline import make_pipeline, FeatureUnion\n",
        "from sklearn.model_selection import GridSearchCV\n",
        "from sklearn import metrics\n",
        "from sklearn.decomposition import PCA\n",
        "from sklearn.metrics import mean_squared_error, r2_score"
      ]
    },
    {
      "cell_type": "code",
      "source": [
        "from google.colab import drive\n",
        "drive.mount('/content/AFLW2000')"
      ],
      "metadata": {
        "id": "c8DsxzfK_vNb",
        "colab": {
          "base_uri": "https://localhost:8080/"
        },
        "outputId": "9d0c1e96-52ee-474f-d442-6c24296ba83e"
      },
      "execution_count": null,
      "outputs": [
        {
          "output_type": "stream",
          "name": "stdout",
          "text": [
            "Mounted at /content/AFLW2000\n"
          ]
        }
      ]
    },
    {
      "cell_type": "code",
      "source": [
        "df = pd.read_csv(\"/content/AFLW2000/MyDrive/Data_mediapipe_Last.csv\")\n",
        "df"
      ],
      "metadata": {
        "colab": {
          "base_uri": "https://localhost:8080/",
          "height": 488
        },
        "id": "ECre4EKE_y0g",
        "outputId": "bd1661f9-ebb4-4f78-c702-6588a69390fa"
      },
      "execution_count": null,
      "outputs": [
        {
          "output_type": "execute_result",
          "data": {
            "text/plain": [
              "             0         1         2         3         4         5         6  \\\n",
              "0     0.938597  1.007386  1.098770  0.182021  0.763815  0.510631  0.609138   \n",
              "1     0.620653  1.375399  1.325659  0.525301  0.589380  0.879985  0.836262   \n",
              "2    -0.200145  0.945523 -0.232793  0.611262 -0.213700  0.632172 -0.386228   \n",
              "3     0.245179  0.390212  0.669888 -0.102398  0.258672  0.086786  0.374627   \n",
              "4    -0.231091  0.608912 -0.168474  0.137574 -0.230430  0.238288 -0.368546   \n",
              "...        ...       ...       ...       ...       ...       ...       ...   \n",
              "1818  0.096465  1.103705 -0.078571  0.729682  0.013125  0.793496 -0.274523   \n",
              "1819 -0.026975  0.472753 -0.188752  0.196186 -0.057657  0.292424 -0.182060   \n",
              "1820  2.354778  0.784182  2.408616  0.335732  2.304485  0.496784  2.187844   \n",
              "1821  0.542091  0.594646  0.214526  0.240460  0.489729  0.345595  0.221053   \n",
              "1822  0.469310  0.914627  0.138112  0.560252  0.297668  0.643292 -0.135324   \n",
              "\n",
              "             7         8         9  ...       930       931       932  \\\n",
              "0    -0.391791  1.076836 -0.031944  ...  0.308671 -0.800266  0.490267   \n",
              "1    -0.283631  1.391070  0.246671  ...  0.390860 -0.863887  0.437160   \n",
              "2    -0.038489 -0.240714  0.466111  ...  0.098146 -0.705439  1.153548   \n",
              "3    -0.560250  0.706987 -0.251751  ...  0.174222 -0.944195  0.335404   \n",
              "4    -0.476936 -0.161499 -0.028239  ... -0.037472 -0.993423  0.832600   \n",
              "...        ...       ...       ...  ...       ...       ...       ...   \n",
              "1818  0.219890 -0.121227  0.594823  ...  0.095882 -0.301489  0.951424   \n",
              "1819 -0.095267 -0.198417  0.100473  ...  0.176497 -0.290683  0.756945   \n",
              "1820 -0.035539  2.404536  0.208834  ...  2.261684 -0.292790  2.736815   \n",
              "1821 -0.097081  0.169589  0.126626  ...  0.661764 -0.457418  1.296870   \n",
              "1822  0.211328  0.054963  0.444510  ...  0.113586 -0.267376  0.777417   \n",
              "\n",
              "           933       934       935       936       937       938         939  \n",
              "0    -1.006096  0.482867 -1.089393 -0.974573  0.510970 -0.369454  image03196  \n",
              "1    -1.010319  0.427355 -1.148040 -1.228429 -0.368714  0.177511  image03161  \n",
              "2    -1.127718  1.229906 -1.216391 -0.040907 -0.474087  0.019801  image03238  \n",
              "3    -1.086590  0.352655 -1.176436 -0.985426 -0.379067  0.086955  image03249  \n",
              "4    -1.310196  0.895753 -1.368230  0.039903 -0.192543 -0.027199  image03217  \n",
              "...        ...       ...       ...       ...       ...       ...         ...  \n",
              "1818 -0.702999  1.009162 -0.780140  0.206935 -0.219317 -0.202272  image00856  \n",
              "1819 -0.397687  0.822751 -0.433359  0.580349 -0.046365 -0.023616  image00847  \n",
              "1820 -0.448154  2.779947 -0.496736 -0.617419  0.137163 -0.091421  image00837  \n",
              "1821 -0.812498  1.355925 -0.912849  0.983607  0.236384 -0.383734  image00861  \n",
              "1822 -0.829151  0.824716 -0.909367  0.314266 -0.075998 -0.553940  image00846  \n",
              "\n",
              "[1823 rows x 940 columns]"
            ],
            "text/html": [
              "\n",
              "  <div id=\"df-24fc617c-3934-4d4d-80bc-f9b84fc3195b\">\n",
              "    <div class=\"colab-df-container\">\n",
              "      <div>\n",
              "<style scoped>\n",
              "    .dataframe tbody tr th:only-of-type {\n",
              "        vertical-align: middle;\n",
              "    }\n",
              "\n",
              "    .dataframe tbody tr th {\n",
              "        vertical-align: top;\n",
              "    }\n",
              "\n",
              "    .dataframe thead th {\n",
              "        text-align: right;\n",
              "    }\n",
              "</style>\n",
              "<table border=\"1\" class=\"dataframe\">\n",
              "  <thead>\n",
              "    <tr style=\"text-align: right;\">\n",
              "      <th></th>\n",
              "      <th>0</th>\n",
              "      <th>1</th>\n",
              "      <th>2</th>\n",
              "      <th>3</th>\n",
              "      <th>4</th>\n",
              "      <th>5</th>\n",
              "      <th>6</th>\n",
              "      <th>7</th>\n",
              "      <th>8</th>\n",
              "      <th>9</th>\n",
              "      <th>...</th>\n",
              "      <th>930</th>\n",
              "      <th>931</th>\n",
              "      <th>932</th>\n",
              "      <th>933</th>\n",
              "      <th>934</th>\n",
              "      <th>935</th>\n",
              "      <th>936</th>\n",
              "      <th>937</th>\n",
              "      <th>938</th>\n",
              "      <th>939</th>\n",
              "    </tr>\n",
              "  </thead>\n",
              "  <tbody>\n",
              "    <tr>\n",
              "      <th>0</th>\n",
              "      <td>0.938597</td>\n",
              "      <td>1.007386</td>\n",
              "      <td>1.098770</td>\n",
              "      <td>0.182021</td>\n",
              "      <td>0.763815</td>\n",
              "      <td>0.510631</td>\n",
              "      <td>0.609138</td>\n",
              "      <td>-0.391791</td>\n",
              "      <td>1.076836</td>\n",
              "      <td>-0.031944</td>\n",
              "      <td>...</td>\n",
              "      <td>0.308671</td>\n",
              "      <td>-0.800266</td>\n",
              "      <td>0.490267</td>\n",
              "      <td>-1.006096</td>\n",
              "      <td>0.482867</td>\n",
              "      <td>-1.089393</td>\n",
              "      <td>-0.974573</td>\n",
              "      <td>0.510970</td>\n",
              "      <td>-0.369454</td>\n",
              "      <td>image03196</td>\n",
              "    </tr>\n",
              "    <tr>\n",
              "      <th>1</th>\n",
              "      <td>0.620653</td>\n",
              "      <td>1.375399</td>\n",
              "      <td>1.325659</td>\n",
              "      <td>0.525301</td>\n",
              "      <td>0.589380</td>\n",
              "      <td>0.879985</td>\n",
              "      <td>0.836262</td>\n",
              "      <td>-0.283631</td>\n",
              "      <td>1.391070</td>\n",
              "      <td>0.246671</td>\n",
              "      <td>...</td>\n",
              "      <td>0.390860</td>\n",
              "      <td>-0.863887</td>\n",
              "      <td>0.437160</td>\n",
              "      <td>-1.010319</td>\n",
              "      <td>0.427355</td>\n",
              "      <td>-1.148040</td>\n",
              "      <td>-1.228429</td>\n",
              "      <td>-0.368714</td>\n",
              "      <td>0.177511</td>\n",
              "      <td>image03161</td>\n",
              "    </tr>\n",
              "    <tr>\n",
              "      <th>2</th>\n",
              "      <td>-0.200145</td>\n",
              "      <td>0.945523</td>\n",
              "      <td>-0.232793</td>\n",
              "      <td>0.611262</td>\n",
              "      <td>-0.213700</td>\n",
              "      <td>0.632172</td>\n",
              "      <td>-0.386228</td>\n",
              "      <td>-0.038489</td>\n",
              "      <td>-0.240714</td>\n",
              "      <td>0.466111</td>\n",
              "      <td>...</td>\n",
              "      <td>0.098146</td>\n",
              "      <td>-0.705439</td>\n",
              "      <td>1.153548</td>\n",
              "      <td>-1.127718</td>\n",
              "      <td>1.229906</td>\n",
              "      <td>-1.216391</td>\n",
              "      <td>-0.040907</td>\n",
              "      <td>-0.474087</td>\n",
              "      <td>0.019801</td>\n",
              "      <td>image03238</td>\n",
              "    </tr>\n",
              "    <tr>\n",
              "      <th>3</th>\n",
              "      <td>0.245179</td>\n",
              "      <td>0.390212</td>\n",
              "      <td>0.669888</td>\n",
              "      <td>-0.102398</td>\n",
              "      <td>0.258672</td>\n",
              "      <td>0.086786</td>\n",
              "      <td>0.374627</td>\n",
              "      <td>-0.560250</td>\n",
              "      <td>0.706987</td>\n",
              "      <td>-0.251751</td>\n",
              "      <td>...</td>\n",
              "      <td>0.174222</td>\n",
              "      <td>-0.944195</td>\n",
              "      <td>0.335404</td>\n",
              "      <td>-1.086590</td>\n",
              "      <td>0.352655</td>\n",
              "      <td>-1.176436</td>\n",
              "      <td>-0.985426</td>\n",
              "      <td>-0.379067</td>\n",
              "      <td>0.086955</td>\n",
              "      <td>image03249</td>\n",
              "    </tr>\n",
              "    <tr>\n",
              "      <th>4</th>\n",
              "      <td>-0.231091</td>\n",
              "      <td>0.608912</td>\n",
              "      <td>-0.168474</td>\n",
              "      <td>0.137574</td>\n",
              "      <td>-0.230430</td>\n",
              "      <td>0.238288</td>\n",
              "      <td>-0.368546</td>\n",
              "      <td>-0.476936</td>\n",
              "      <td>-0.161499</td>\n",
              "      <td>-0.028239</td>\n",
              "      <td>...</td>\n",
              "      <td>-0.037472</td>\n",
              "      <td>-0.993423</td>\n",
              "      <td>0.832600</td>\n",
              "      <td>-1.310196</td>\n",
              "      <td>0.895753</td>\n",
              "      <td>-1.368230</td>\n",
              "      <td>0.039903</td>\n",
              "      <td>-0.192543</td>\n",
              "      <td>-0.027199</td>\n",
              "      <td>image03217</td>\n",
              "    </tr>\n",
              "    <tr>\n",
              "      <th>...</th>\n",
              "      <td>...</td>\n",
              "      <td>...</td>\n",
              "      <td>...</td>\n",
              "      <td>...</td>\n",
              "      <td>...</td>\n",
              "      <td>...</td>\n",
              "      <td>...</td>\n",
              "      <td>...</td>\n",
              "      <td>...</td>\n",
              "      <td>...</td>\n",
              "      <td>...</td>\n",
              "      <td>...</td>\n",
              "      <td>...</td>\n",
              "      <td>...</td>\n",
              "      <td>...</td>\n",
              "      <td>...</td>\n",
              "      <td>...</td>\n",
              "      <td>...</td>\n",
              "      <td>...</td>\n",
              "      <td>...</td>\n",
              "      <td>...</td>\n",
              "    </tr>\n",
              "    <tr>\n",
              "      <th>1818</th>\n",
              "      <td>0.096465</td>\n",
              "      <td>1.103705</td>\n",
              "      <td>-0.078571</td>\n",
              "      <td>0.729682</td>\n",
              "      <td>0.013125</td>\n",
              "      <td>0.793496</td>\n",
              "      <td>-0.274523</td>\n",
              "      <td>0.219890</td>\n",
              "      <td>-0.121227</td>\n",
              "      <td>0.594823</td>\n",
              "      <td>...</td>\n",
              "      <td>0.095882</td>\n",
              "      <td>-0.301489</td>\n",
              "      <td>0.951424</td>\n",
              "      <td>-0.702999</td>\n",
              "      <td>1.009162</td>\n",
              "      <td>-0.780140</td>\n",
              "      <td>0.206935</td>\n",
              "      <td>-0.219317</td>\n",
              "      <td>-0.202272</td>\n",
              "      <td>image00856</td>\n",
              "    </tr>\n",
              "    <tr>\n",
              "      <th>1819</th>\n",
              "      <td>-0.026975</td>\n",
              "      <td>0.472753</td>\n",
              "      <td>-0.188752</td>\n",
              "      <td>0.196186</td>\n",
              "      <td>-0.057657</td>\n",
              "      <td>0.292424</td>\n",
              "      <td>-0.182060</td>\n",
              "      <td>-0.095267</td>\n",
              "      <td>-0.198417</td>\n",
              "      <td>0.100473</td>\n",
              "      <td>...</td>\n",
              "      <td>0.176497</td>\n",
              "      <td>-0.290683</td>\n",
              "      <td>0.756945</td>\n",
              "      <td>-0.397687</td>\n",
              "      <td>0.822751</td>\n",
              "      <td>-0.433359</td>\n",
              "      <td>0.580349</td>\n",
              "      <td>-0.046365</td>\n",
              "      <td>-0.023616</td>\n",
              "      <td>image00847</td>\n",
              "    </tr>\n",
              "    <tr>\n",
              "      <th>1820</th>\n",
              "      <td>2.354778</td>\n",
              "      <td>0.784182</td>\n",
              "      <td>2.408616</td>\n",
              "      <td>0.335732</td>\n",
              "      <td>2.304485</td>\n",
              "      <td>0.496784</td>\n",
              "      <td>2.187844</td>\n",
              "      <td>-0.035539</td>\n",
              "      <td>2.404536</td>\n",
              "      <td>0.208834</td>\n",
              "      <td>...</td>\n",
              "      <td>2.261684</td>\n",
              "      <td>-0.292790</td>\n",
              "      <td>2.736815</td>\n",
              "      <td>-0.448154</td>\n",
              "      <td>2.779947</td>\n",
              "      <td>-0.496736</td>\n",
              "      <td>-0.617419</td>\n",
              "      <td>0.137163</td>\n",
              "      <td>-0.091421</td>\n",
              "      <td>image00837</td>\n",
              "    </tr>\n",
              "    <tr>\n",
              "      <th>1821</th>\n",
              "      <td>0.542091</td>\n",
              "      <td>0.594646</td>\n",
              "      <td>0.214526</td>\n",
              "      <td>0.240460</td>\n",
              "      <td>0.489729</td>\n",
              "      <td>0.345595</td>\n",
              "      <td>0.221053</td>\n",
              "      <td>-0.097081</td>\n",
              "      <td>0.169589</td>\n",
              "      <td>0.126626</td>\n",
              "      <td>...</td>\n",
              "      <td>0.661764</td>\n",
              "      <td>-0.457418</td>\n",
              "      <td>1.296870</td>\n",
              "      <td>-0.812498</td>\n",
              "      <td>1.355925</td>\n",
              "      <td>-0.912849</td>\n",
              "      <td>0.983607</td>\n",
              "      <td>0.236384</td>\n",
              "      <td>-0.383734</td>\n",
              "      <td>image00861</td>\n",
              "    </tr>\n",
              "    <tr>\n",
              "      <th>1822</th>\n",
              "      <td>0.469310</td>\n",
              "      <td>0.914627</td>\n",
              "      <td>0.138112</td>\n",
              "      <td>0.560252</td>\n",
              "      <td>0.297668</td>\n",
              "      <td>0.643292</td>\n",
              "      <td>-0.135324</td>\n",
              "      <td>0.211328</td>\n",
              "      <td>0.054963</td>\n",
              "      <td>0.444510</td>\n",
              "      <td>...</td>\n",
              "      <td>0.113586</td>\n",
              "      <td>-0.267376</td>\n",
              "      <td>0.777417</td>\n",
              "      <td>-0.829151</td>\n",
              "      <td>0.824716</td>\n",
              "      <td>-0.909367</td>\n",
              "      <td>0.314266</td>\n",
              "      <td>-0.075998</td>\n",
              "      <td>-0.553940</td>\n",
              "      <td>image00846</td>\n",
              "    </tr>\n",
              "  </tbody>\n",
              "</table>\n",
              "<p>1823 rows × 940 columns</p>\n",
              "</div>\n",
              "      <button class=\"colab-df-convert\" onclick=\"convertToInteractive('df-24fc617c-3934-4d4d-80bc-f9b84fc3195b')\"\n",
              "              title=\"Convert this dataframe to an interactive table.\"\n",
              "              style=\"display:none;\">\n",
              "        \n",
              "  <svg xmlns=\"http://www.w3.org/2000/svg\" height=\"24px\"viewBox=\"0 0 24 24\"\n",
              "       width=\"24px\">\n",
              "    <path d=\"M0 0h24v24H0V0z\" fill=\"none\"/>\n",
              "    <path d=\"M18.56 5.44l.94 2.06.94-2.06 2.06-.94-2.06-.94-.94-2.06-.94 2.06-2.06.94zm-11 1L8.5 8.5l.94-2.06 2.06-.94-2.06-.94L8.5 2.5l-.94 2.06-2.06.94zm10 10l.94 2.06.94-2.06 2.06-.94-2.06-.94-.94-2.06-.94 2.06-2.06.94z\"/><path d=\"M17.41 7.96l-1.37-1.37c-.4-.4-.92-.59-1.43-.59-.52 0-1.04.2-1.43.59L10.3 9.45l-7.72 7.72c-.78.78-.78 2.05 0 2.83L4 21.41c.39.39.9.59 1.41.59.51 0 1.02-.2 1.41-.59l7.78-7.78 2.81-2.81c.8-.78.8-2.07 0-2.86zM5.41 20L4 18.59l7.72-7.72 1.47 1.35L5.41 20z\"/>\n",
              "  </svg>\n",
              "      </button>\n",
              "      \n",
              "  <style>\n",
              "    .colab-df-container {\n",
              "      display:flex;\n",
              "      flex-wrap:wrap;\n",
              "      gap: 12px;\n",
              "    }\n",
              "\n",
              "    .colab-df-convert {\n",
              "      background-color: #E8F0FE;\n",
              "      border: none;\n",
              "      border-radius: 50%;\n",
              "      cursor: pointer;\n",
              "      display: none;\n",
              "      fill: #1967D2;\n",
              "      height: 32px;\n",
              "      padding: 0 0 0 0;\n",
              "      width: 32px;\n",
              "    }\n",
              "\n",
              "    .colab-df-convert:hover {\n",
              "      background-color: #E2EBFA;\n",
              "      box-shadow: 0px 1px 2px rgba(60, 64, 67, 0.3), 0px 1px 3px 1px rgba(60, 64, 67, 0.15);\n",
              "      fill: #174EA6;\n",
              "    }\n",
              "\n",
              "    [theme=dark] .colab-df-convert {\n",
              "      background-color: #3B4455;\n",
              "      fill: #D2E3FC;\n",
              "    }\n",
              "\n",
              "    [theme=dark] .colab-df-convert:hover {\n",
              "      background-color: #434B5C;\n",
              "      box-shadow: 0px 1px 3px 1px rgba(0, 0, 0, 0.15);\n",
              "      filter: drop-shadow(0px 1px 2px rgba(0, 0, 0, 0.3));\n",
              "      fill: #FFFFFF;\n",
              "    }\n",
              "  </style>\n",
              "\n",
              "      <script>\n",
              "        const buttonEl =\n",
              "          document.querySelector('#df-24fc617c-3934-4d4d-80bc-f9b84fc3195b button.colab-df-convert');\n",
              "        buttonEl.style.display =\n",
              "          google.colab.kernel.accessAllowed ? 'block' : 'none';\n",
              "\n",
              "        async function convertToInteractive(key) {\n",
              "          const element = document.querySelector('#df-24fc617c-3934-4d4d-80bc-f9b84fc3195b');\n",
              "          const dataTable =\n",
              "            await google.colab.kernel.invokeFunction('convertToInteractive',\n",
              "                                                     [key], {});\n",
              "          if (!dataTable) return;\n",
              "\n",
              "          const docLinkHtml = 'Like what you see? Visit the ' +\n",
              "            '<a target=\"_blank\" href=https://colab.research.google.com/notebooks/data_table.ipynb>data table notebook</a>'\n",
              "            + ' to learn more about interactive tables.';\n",
              "          element.innerHTML = '';\n",
              "          dataTable['output_type'] = 'display_data';\n",
              "          await google.colab.output.renderOutput(dataTable, element);\n",
              "          const docLink = document.createElement('div');\n",
              "          docLink.innerHTML = docLinkHtml;\n",
              "          element.appendChild(docLink);\n",
              "        }\n",
              "      </script>\n",
              "    </div>\n",
              "  </div>\n",
              "  "
            ]
          },
          "metadata": {},
          "execution_count": 5
        }
      ]
    },
    {
      "cell_type": "code",
      "source": [
        "features = df.iloc[:,:936]\n",
        "labels = df.iloc[:,936:939]"
      ],
      "metadata": {
        "id": "UfzTwkE-_2ob"
      },
      "execution_count": null,
      "outputs": []
    },
    {
      "cell_type": "code",
      "source": [
        "from sklearn.model_selection import train_test_split\n",
        "X_train, X_test, y_train, y_test = train_test_split(features, labels, shuffle=True, test_size=0.2,random_state=2345)"
      ],
      "metadata": {
        "id": "VW00DDcv_-Qq"
      },
      "execution_count": null,
      "outputs": []
    },
    {
      "cell_type": "code",
      "source": [
        "X_tst, X_val, y_tst, y_val = train_test_split(X_test, y_test, shuffle=True, test_size=0.5,random_state=2345)"
      ],
      "metadata": {
        "id": "9DiUmmXbACWJ"
      },
      "execution_count": null,
      "outputs": []
    },
    {
      "cell_type": "markdown",
      "source": [
        "# **RandomForestRegressor** (Yaw Saved Model)"
      ],
      "metadata": {
        "id": "ztxuO5JUAJWN"
      }
    },
    {
      "cell_type": "code",
      "source": [
        "from sklearn.svm import SVR\n",
        "from sklearn.ensemble import BaggingRegressor\n",
        "from sklearn.ensemble import ExtraTreesRegressor\n",
        "rf_clf = make_pipeline(MinMaxScaler(),\n",
        "                       PCA(n_components=0.99),\n",
        "                      RandomForestRegressor(random_state=42,n_estimators=200))"
      ],
      "metadata": {
        "id": "z2CQ36r_AFUL"
      },
      "execution_count": null,
      "outputs": []
    },
    {
      "cell_type": "code",
      "source": [
        "rf_clf.fit(X_train, y_train.iloc[:, -3])"
      ],
      "metadata": {
        "colab": {
          "base_uri": "https://localhost:8080/"
        },
        "id": "uMAEjjmGAIdd",
        "outputId": "cdedcbdb-e17c-4b05-ee0a-8710e36ace73"
      },
      "execution_count": null,
      "outputs": [
        {
          "output_type": "execute_result",
          "data": {
            "text/plain": [
              "Pipeline(steps=[('minmaxscaler', MinMaxScaler()),\n",
              "                ('pca', PCA(n_components=0.99)),\n",
              "                ('randomforestregressor',\n",
              "                 RandomForestRegressor(n_estimators=200, random_state=42))])"
            ]
          },
          "metadata": {},
          "execution_count": 10
        }
      ]
    },
    {
      "cell_type": "code",
      "source": [
        "print(\"Score \\n\")\n",
        "print(\"Train==>  \" ,rf_clf.score(X_train, y_train.iloc[:, -3]))\n",
        "print(\"Val==>  \" ,rf_clf.score(X_val, y_val.iloc[:, -3]))\n",
        "print(\"test==>  \" ,rf_clf.score(X_tst, y_tst.iloc[:, -3]))"
      ],
      "metadata": {
        "colab": {
          "base_uri": "https://localhost:8080/"
        },
        "id": "yL7ne5x6AVYl",
        "outputId": "35761a93-ab4c-404e-9551-5ea7779e0479"
      },
      "execution_count": null,
      "outputs": [
        {
          "output_type": "stream",
          "name": "stdout",
          "text": [
            "Score \n",
            "\n",
            "Train==>   0.9536544385677631\n",
            "Val==>   0.9284458475917892\n",
            "test==>   0.9308446633777376\n"
          ]
        }
      ]
    },
    {
      "cell_type": "code",
      "source": [
        "predictions_train = rf_clf.predict(X_train)\n",
        "predictions_val = rf_clf.predict(X_val)\n",
        "predictions_test = rf_clf.predict(X_tst)"
      ],
      "metadata": {
        "id": "DKP1Dh0xAV4A"
      },
      "execution_count": null,
      "outputs": []
    },
    {
      "cell_type": "code",
      "source": [
        "print(\"\\n R2_Score \\n\")\n",
        "r2_train = r2_score(y_train.iloc[:, -3], predictions_train)\n",
        "r2_val = r2_score(y_val.iloc[:, -3], predictions_val)\n",
        "r2_tst = r2_score(y_tst.iloc[:, -3], predictions_test)\n",
        "print(\"Train ==>  \" , r2_train)\n",
        "print(\"Val ==>  \" , r2_val)\n",
        "print(\"test ==>  \" , r2_tst)"
      ],
      "metadata": {
        "colab": {
          "base_uri": "https://localhost:8080/"
        },
        "id": "dev6klFGAW3_",
        "outputId": "c57d5963-e760-493b-e079-861126e1c3fc"
      },
      "execution_count": null,
      "outputs": [
        {
          "output_type": "stream",
          "name": "stdout",
          "text": [
            "\n",
            " R2_Score \n",
            "\n",
            "Train ==>   0.9536544385677631\n",
            "Val ==>   0.9284458475917892\n",
            "test ==>   0.9308446633777376\n"
          ]
        }
      ]
    },
    {
      "cell_type": "code",
      "source": [
        "import pickle \n",
        "\n",
        "with open('yaw_model.pkl', 'wb') as f:\n",
        "    pickle.dump(rf_clf, f)"
      ],
      "metadata": {
        "id": "6Y3DNakmTa9u"
      },
      "execution_count": null,
      "outputs": []
    },
    {
      "cell_type": "markdown",
      "source": [
        "---\n",
        "\n",
        "\n",
        "\n",
        "---\n",
        "\n",
        "\n",
        "# ***Trials***\n",
        "\n",
        "\n",
        "---\n",
        "\n",
        "\n",
        "\n",
        "---\n",
        "\n"
      ],
      "metadata": {
        "id": "8T-oXdbjzbqQ"
      }
    },
    {
      "cell_type": "markdown",
      "source": [
        "# SVR "
      ],
      "metadata": {
        "id": "VQzxX0i6RlLS"
      }
    },
    {
      "cell_type": "code",
      "source": [
        "from sklearn.svm import SVR\n",
        "from sklearn.ensemble import BaggingRegressor\n",
        "from sklearn.ensemble import ExtraTreesRegressor\n",
        "rf_clf_svr = make_pipeline(MinMaxScaler(),\n",
        "                       PCA(n_components=0.99),\n",
        "                      SVR(kernel='rbf', C=2.0, epsilon=0.00000089))"
      ],
      "metadata": {
        "id": "oQBpZ--dHBCJ"
      },
      "execution_count": null,
      "outputs": []
    },
    {
      "cell_type": "code",
      "source": [
        "rf_clf_svr.fit(X_train, y_train.iloc[:, -3])"
      ],
      "metadata": {
        "colab": {
          "base_uri": "https://localhost:8080/"
        },
        "id": "9OBAA63uRuFL",
        "outputId": "941075a6-25ec-4b28-f528-5c1a12dad676"
      },
      "execution_count": null,
      "outputs": [
        {
          "output_type": "execute_result",
          "data": {
            "text/plain": [
              "Pipeline(steps=[('minmaxscaler', MinMaxScaler()),\n",
              "                ('pca', PCA(n_components=0.99)),\n",
              "                ('svr', SVR(C=2.0, epsilon=8.9e-07))])"
            ]
          },
          "metadata": {},
          "execution_count": 15
        }
      ]
    },
    {
      "cell_type": "code",
      "source": [
        "print(\"Score \\n\")\n",
        "print(\"Train==>  \" ,rf_clf_svr.score(X_train, y_train.iloc[:, -3]))\n",
        "print(\"Val==>  \" ,rf_clf_svr.score(X_val, y_val.iloc[:, -3]))\n",
        "print(\"test==>  \" ,rf_clf_svr.score(X_tst, y_tst.iloc[:, -3]))"
      ],
      "metadata": {
        "colab": {
          "base_uri": "https://localhost:8080/"
        },
        "id": "S3wGJoZzRwN4",
        "outputId": "88f4a08f-c95e-42f7-9bf0-36ed1f443288"
      },
      "execution_count": null,
      "outputs": [
        {
          "output_type": "stream",
          "name": "stdout",
          "text": [
            "Score \n",
            "\n",
            "Train==>   0.8839355809903261\n",
            "Val==>   0.9540024587417943\n",
            "test==>   0.9324686663240749\n"
          ]
        }
      ]
    },
    {
      "cell_type": "code",
      "source": [
        "predictions_train = rf_clf_svr.predict(X_train)\n",
        "predictions_val = rf_clf_svr.predict(X_val)\n",
        "predictions_test = rf_clf_svr.predict(X_tst)"
      ],
      "metadata": {
        "id": "QXyYObDFRwJc"
      },
      "execution_count": null,
      "outputs": []
    },
    {
      "cell_type": "code",
      "source": [
        "print(\"\\n R2_Score \\n\")\n",
        "r2_train = r2_score(y_train.iloc[:, -3], predictions_train)\n",
        "r2_val = r2_score(y_val.iloc[:, -3], predictions_val)\n",
        "r2_tst = r2_score(y_tst.iloc[:, -3], predictions_test)\n",
        "print(\"Train ==>  \" , r2_train)\n",
        "print(\"Val ==>  \" , r2_val)\n",
        "print(\"test ==>  \" , r2_tst)"
      ],
      "metadata": {
        "id": "HaMBmQwQRwF4",
        "colab": {
          "base_uri": "https://localhost:8080/"
        },
        "outputId": "1f01f10c-5260-4a0a-bc98-06e66a25e31f"
      },
      "execution_count": null,
      "outputs": [
        {
          "output_type": "stream",
          "name": "stdout",
          "text": [
            "\n",
            " R2_Score \n",
            "\n",
            "Train ==>   0.8839355809903261\n",
            "Val ==>   0.9540024587417943\n",
            "test ==>   0.9324686663240749\n"
          ]
        }
      ]
    }
  ]
}