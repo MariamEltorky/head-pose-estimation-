{
 "cells": [
  {
   "cell_type": "code",
   "execution_count": 3,
   "metadata": {
    "id": "JFmtPjyGXJQh"
   },
   "outputs": [],
   "source": [
    "# pip install mediapipe"
   ]
  },
  {
   "cell_type": "code",
   "execution_count": 1,
   "metadata": {
    "id": "xbJ72kpOXAqi"
   },
   "outputs": [],
   "source": [
    "import numpy as np\n",
    "import os,cv2,math,glob,random\n",
    "import scipy.io as sio\n",
    "from math import cos, sin\n",
    "from pathlib import Path\n",
    "import pandas as pd\n",
    "import mediapipe\n",
    "import warnings\n",
    "warnings.filterwarnings('ignore')\n",
    "import numpy as np\n",
    "import math\n",
    "from sklearn.decomposition import PCA\n",
    "import pickle "
   ]
  },
  {
   "cell_type": "code",
   "execution_count": 3,
   "metadata": {
    "colab": {
     "base_uri": "https://localhost:8080/"
    },
    "id": "kWrrhHQoc1wN",
    "outputId": "075e6f74-dfe0-4ea5-c437-5e2c8d3631f9"
   },
   "outputs": [],
   "source": [
    "# from google.colab import drive\n",
    "# drive.mount('/content/AFLW2000')"
   ]
  },
  {
   "cell_type": "code",
   "execution_count": 4,
   "metadata": {
    "id": "9smVfGYQXEeX"
   },
   "outputs": [],
   "source": [
    "with open('pitch_model.pkl', 'rb') as f:\n",
    "    pitch_model = pickle.load(f)"
   ]
  },
  {
   "cell_type": "code",
   "execution_count": 5,
   "metadata": {
    "id": "fC_hSVYsdH9c"
   },
   "outputs": [],
   "source": [
    "with open('yaw_model.pkl', 'rb') as f:\n",
    "    yaw_model = pickle.load(f)"
   ]
  },
  {
   "cell_type": "code",
   "execution_count": 6,
   "metadata": {
    "id": "f3Est7pkdPmi"
   },
   "outputs": [],
   "source": [
    "with open('roll_model.pkl', 'rb') as f:\n",
    "    roll_model = pickle.load(f)"
   ]
  },
  {
   "cell_type": "code",
   "execution_count": 7,
   "metadata": {
    "id": "RuFmL8ghjGdp"
   },
   "outputs": [],
   "source": [
    "def draw_axis(img, pitch,yaw,roll, tdx=None, tdy=None, size = 100):\n",
    "\n",
    "    yaw = -yaw\n",
    "    if tdx != None and tdy != None:\n",
    "        tdx = tdx\n",
    "        tdy = tdy\n",
    "    else:\n",
    "        height, width = img.shape[:2]\n",
    "        tdx = width / 2\n",
    "        tdy = height / 2\n",
    "\n",
    "\n",
    "    x1 = size * (cos(yaw) * cos(roll)) + tdx\n",
    "    y1 = size * (cos(pitch) * sin(roll) + cos(roll) * sin(pitch) * sin(yaw)) + tdy\n",
    "\n",
    "    x2 = size * (-cos(yaw) * sin(roll)) + tdx\n",
    "    y2 = size * (cos(pitch) * cos(roll) - sin(pitch) * sin(yaw) * sin(roll)) + tdy\n",
    "\n",
    "    x3 = size * (sin(yaw)) + tdx\n",
    "    y3 = size * (-cos(yaw) * sin(pitch)) + tdy\n",
    "\n",
    "    cv2.line(img, (int(tdx), int(tdy)), (int(x1),int(y1)),(0,0,255),3)\n",
    "    cv2.line(img, (int(tdx), int(tdy)), (int(x2),int(y2)),(0,255,0),3)\n",
    "    cv2.line(img, (int(tdx), int(tdy)), (int(x3),int(y3)),(255,0,0),2)"
   ]
  },
  {
   "cell_type": "code",
   "execution_count": 8,
   "metadata": {
    "id": "1YhAyIRgdccj"
   },
   "outputs": [],
   "source": [
    "import mediapipe as mp\n",
    "mp_drawing = mp.solutions.drawing_utils \n",
    "mp_holistic = mp.solutions.holistic \n",
    "mp_drawing_styles = mp.solutions.drawing_styles"
   ]
  },
  {
   "cell_type": "code",
   "execution_count": 11,
   "metadata": {
    "id": "kVU5mmCkdWLw"
   },
   "outputs": [],
   "source": [
    "import cv2\n",
    "cap = cv2.VideoCapture(0)\n",
    "with mp_holistic.Holistic(min_detection_confidence=0.5, min_tracking_confidence=0.5) as holistic:\n",
    "    \n",
    "    while cap.isOpened():\n",
    "        ret, frame = cap.read()\n",
    "        image = cv2.cvtColor(frame, cv2.COLOR_BGR2RGB)\n",
    "        image.flags.writeable = False        \n",
    "    \n",
    "        results = holistic.process(image)\n",
    "        image.flags.writeable = True   \n",
    "        image = cv2.cvtColor(image, cv2.COLOR_RGB2BGR)\n",
    "        image_height, image_width, _ = image.shape\n",
    "\n",
    "        \n",
    "        try:\n",
    "           \n",
    "            face = results.face_landmarks.landmark\n",
    "            NoseX = results.pose_landmarks.landmark[mp_holistic.PoseLandmark.NOSE].x * image_width\n",
    "            NoseY=results.pose_landmarks.landmark[mp_holistic.PoseLandmark.NOSE].y   *image_height\n",
    "            LfeoX = results.pose_landmarks.landmark[mp_holistic.PoseLandmark.LEFT_EYE_OUTER].x *image_width\n",
    "            LfeoY = results.pose_landmarks.landmark[mp_holistic.PoseLandmark.LEFT_EYE_OUTER].y* image_height\n",
    "            \n",
    "            dist = math.dist([NoseX, NoseY], [LfeoX, LfeoY])\n",
    "            face_row = list(np.array([[   ((landmark.x *image_width)-NoseX)/dist, \n",
    "                                            ((landmark.y*image_height)-NoseY)/dist] for landmark in face]).reshape(1, -1))\n",
    "            \n",
    "            pitch = pitch_model.predict(face_row)\n",
    "            yaw = yaw_model.predict(face_row)\n",
    "            roll = roll_model.predict(face_row)\n",
    "            \n",
    "            cv2.putText(image, f\"Pitch: {pitch}\", (0, 30), cv2.FONT_HERSHEY_SIMPLEX, 1,  (0, 0, 0), 2, cv2.LINE_AA, False)\n",
    "            cv2.putText(image, f\"Yaw: {yaw}\", (0, 60), cv2.FONT_HERSHEY_SIMPLEX, 1,  (0, 0, 0), 2, cv2.LINE_AA, False)\n",
    "            cv2.putText(image, f\"Roll: {roll}\", (0, 90), cv2.FONT_HERSHEY_SIMPLEX, 1,  (0, 0, 0), 2, cv2.LINE_AA, False)\n",
    "\n",
    "            yaw = -yaw\n",
    "            tdx = NoseX\n",
    "            tdy = NoseY\n",
    "            size=100\n",
    "            x1 = size * (cos(yaw) * cos(roll)) + tdx\n",
    "            y1 = size * (cos(pitch) * sin(roll) + cos(roll) * sin(pitch) * sin(yaw)) + tdy\n",
    "            x2 = size * (-cos(yaw) * sin(roll)) + tdx\n",
    "            y2 = size * (cos(pitch) * cos(roll) - sin(pitch) * sin(yaw) * sin(roll)) + tdy\n",
    "\n",
    "            x3 = size * (sin(yaw)) + tdx\n",
    "            y3 = size * (-cos(yaw) * sin(pitch)) + tdy\n",
    "            cv2.line(image, (int(tdx), int(tdy)), (int(x1),int(y1)),(0,0,255),3)\n",
    "            cv2.line(image, (int(tdx), int(tdy)), (int(x2),int(y2)),(0,255,0),3)\n",
    "            cv2.line(image, (int(tdx), int(tdy)), (int(x3),int(y3)),(255,0,0),2)\n",
    "        except:\n",
    "            pass\n",
    "\n",
    "        cv2.imshow('Raw Webcam Feed', image)\n",
    "\n",
    "        if cv2.waitKey(10) & 0xFF == ord('q'):\n",
    "            break\n",
    "\n",
    "cap.release()\n",
    "cv2.destroyAllWindows()"
   ]
  },
  {
   "cell_type": "code",
   "execution_count": 15,
   "metadata": {
    "colab": {
     "base_uri": "https://localhost:8080/",
     "height": 408
    },
    "id": "1yIwzupEjGdx",
    "outputId": "1e5cd14d-454e-4ef4-caae-ecf9d275b27c"
   },
   "outputs": [],
   "source": [
    "cap = cv2.VideoCapture('Video.mp4')\n",
    "ret, frame = cap.read()  \n",
    "h, w, _ = frame.shape \n",
    "frameTime = 2\n",
    "\n",
    "fourcc = cv2.VideoWriter_fourcc(*\"XVID\") \n",
    "fps = 1000 / frameTime \n",
    "writer = cv2.VideoWriter(\"Pothole testing 2.mp4\", fourcc, fps, (w, h)) \n",
    "\n",
    "with mp_holistic.Holistic(min_detection_confidence=0.5, min_tracking_confidence=0.5) as holistic:\n",
    "    while ret: \n",
    "        image = cv2.cvtColor(frame, cv2.COLOR_BGR2RGB)\n",
    "        image.flags.writeable = False        \n",
    "        results = holistic.process(image)\n",
    "        image.flags.writeable = True   \n",
    "        image = cv2.cvtColor(image, cv2.COLOR_RGB2BGR)\n",
    "        image_height, image_width, _ = image.shape\n",
    "\n",
    "        \n",
    "        try:\n",
    "           \n",
    "            face = results.face_landmarks.landmark\n",
    "            NoseX = results.pose_landmarks.landmark[mp_holistic.PoseLandmark.NOSE].x * image_width\n",
    "            NoseY=results.pose_landmarks.landmark[mp_holistic.PoseLandmark.NOSE].y   *image_height\n",
    "            LfeoX = results.pose_landmarks.landmark[mp_holistic.PoseLandmark.LEFT_EYE_OUTER].x *image_width\n",
    "            LfeoY = results.pose_landmarks.landmark[mp_holistic.PoseLandmark.LEFT_EYE_OUTER].y* image_height\n",
    "            \n",
    "            dist = math.dist([NoseX, NoseY], [LfeoX, LfeoY])\n",
    "            face_row = list(np.array([[   ((landmark.x *image_width)-NoseX)/dist, \n",
    "                                            ((landmark.y*image_height)-NoseY)/dist] for landmark in face]).reshape(1, -1))\n",
    "            \n",
    "            pitch = pitch_model.predict(face_row)\n",
    "            yaw = yaw_model.predict(face_row)\n",
    "            roll = roll_model.predict(face_row)\n",
    "            \n",
    "            cv2.putText(image, f\"Pitch: {pitch}\", (0, 90), cv2.FONT_HERSHEY_SIMPLEX, 1,  (255, 0, 0), 2, cv2.LINE_AA, False)\n",
    "            cv2.putText(image, f\"Yaw: {yaw}\", (0, 120), cv2.FONT_HERSHEY_SIMPLEX, 1,  (255, 0, 0), 2, cv2.LINE_AA, False)\n",
    "            cv2.putText(image, f\"Roll: {roll}\", (0, 150), cv2.FONT_HERSHEY_SIMPLEX, 1,  (255, 0, 0), 2, cv2.LINE_AA, False)\n",
    "            \n",
    "            draw_axis(image,pitch,yaw,roll,NoseX, NoseY)\n",
    "        except:\n",
    "            pass\n",
    "        writer.write(frame)\n",
    "        cv2.imshow('Video', image)\n",
    "\n",
    "        if cv2.waitKey(frameTime) & 0xFF == ord('q'):\n",
    "            break\n",
    "        ret, frame = cap.read()\n",
    "\n",
    "writer.release()\n",
    "cap.release()\n",
    "cv2.destroyAllWindows()"
   ]
  },
  {
   "cell_type": "code",
   "execution_count": null,
   "metadata": {
    "id": "dbI1WaDWd3bA"
   },
   "outputs": [],
   "source": []
  }
 ],
 "metadata": {
  "colab": {
   "collapsed_sections": [],
   "name": "03Test.ipynb",
   "provenance": []
  },
  "kernelspec": {
   "display_name": "Python 3 (ipykernel)",
   "language": "python",
   "name": "python3"
  },
  "language_info": {
   "codemirror_mode": {
    "name": "ipython",
    "version": 3
   },
   "file_extension": ".py",
   "mimetype": "text/x-python",
   "name": "python",
   "nbconvert_exporter": "python",
   "pygments_lexer": "ipython3",
   "version": "3.9.12"
  }
 },
 "nbformat": 4,
 "nbformat_minor": 1
}
